{
 "cells": [
  {
   "cell_type": "code",
   "execution_count": 1,
   "id": "94679e48-4360-4bde-9ea2-709396ecc753",
   "metadata": {},
   "outputs": [],
   "source": [
    "##Implement a decorator function called ‘timer’ that measures the execution time of a function. \n",
    "##The ‘timer’ decorator should print the time taken by the decorated function to execute. \n",
    "##Use the ‘time’ module in Python to calculate the execution time.\n",
    "\n",
    "import time\n",
    "\n",
    "def timer(func):\n",
    "    def wrapper(*args, **kwargs):\n",
    "        start_time = time.time()  \n",
    "        result = func(*args, **kwargs)  \n",
    "        end_time = time.time()  \n",
    "        execution_time = end_time - start_time  \n",
    "        print(f\"Execution time: {execution_time} seconds\")\n",
    "        return result\n",
    "\n",
    "    return wrapper"
   ]
  },
  {
   "cell_type": "code",
   "execution_count": null,
   "id": "97d69c76-84ea-495a-b101-fe7538a54126",
   "metadata": {},
   "outputs": [],
   "source": [
    "def my_function():\n",
    "    time.sleep(2) \n",
    "\n",
    "my_function()"
   ]
  }
 ],
 "metadata": {
  "kernelspec": {
   "display_name": "Python 3 (ipykernel)",
   "language": "python",
   "name": "python3"
  },
  "language_info": {
   "codemirror_mode": {
    "name": "ipython",
    "version": 3
   },
   "file_extension": ".py",
   "mimetype": "text/x-python",
   "name": "python",
   "nbconvert_exporter": "python",
   "pygments_lexer": "ipython3",
   "version": "3.10.8"
  }
 },
 "nbformat": 4,
 "nbformat_minor": 5
}
