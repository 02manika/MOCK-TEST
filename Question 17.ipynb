{
 "cells": [
  {
   "cell_type": "code",
   "execution_count": null,
   "id": "ed98b86e-4534-4943-b65c-e8a3e886475a",
   "metadata": {},
   "outputs": [
    {
     "name": "stdin",
     "output_type": "stream",
     "text": [
      "Enter the elements : 1,2,3,4,5,6,7,8,9,10\n"
     ]
    }
   ],
   "source": [
    "##Write a function that takes a list of numbers as input and returns a new list containing only the even numbers from the input list.\n",
    "##Use list comprehension to solve this problem.\n",
    "\n",
    "l1 = input(\"Enter the elements :\")\n",
    "l2 = []\n",
    "for i in range (0,20):\n",
    "    m=int(input())\n",
    "    l1.append[m]\n",
    "    \n",
    "for i in l1:\n",
    "    if i % 2 == 0:\n",
    "        l2.append[i]\n",
    "        \n",
    "print(l2)"
   ]
  },
  {
   "cell_type": "code",
   "execution_count": null,
   "id": "dcf267de-0e24-4830-88ff-de0a4e00e8b6",
   "metadata": {},
   "outputs": [],
   "source": []
  }
 ],
 "metadata": {
  "kernelspec": {
   "display_name": "Python 3 (ipykernel)",
   "language": "python",
   "name": "python3"
  },
  "language_info": {
   "codemirror_mode": {
    "name": "ipython",
    "version": 3
   },
   "file_extension": ".py",
   "mimetype": "text/x-python",
   "name": "python",
   "nbconvert_exporter": "python",
   "pygments_lexer": "ipython3",
   "version": "3.10.8"
  }
 },
 "nbformat": 4,
 "nbformat_minor": 5
}
